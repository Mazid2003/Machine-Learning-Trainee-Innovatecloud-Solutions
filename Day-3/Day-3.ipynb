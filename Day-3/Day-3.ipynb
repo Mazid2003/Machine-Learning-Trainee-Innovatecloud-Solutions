{
 "cells": [
  {
   "cell_type": "markdown",
   "id": "caaacf92",
   "metadata": {},
   "source": [
    "Exercise 1: Creating and Manipulating Arrays"
   ]
  },
  {
   "cell_type": "markdown",
   "id": "5bf21ced",
   "metadata": {},
   "source": [
    "Creating 1D array with elements 10 to 50 inclusive"
   ]
  },
  {
   "cell_type": "code",
   "execution_count": 4,
   "id": "445a83b6",
   "metadata": {},
   "outputs": [
    {
     "name": "stdout",
     "output_type": "stream",
     "text": [
      "[10 11 12 13 14 15 16 17 18 19 20 21 22 23 24 25 26 27 28 29 30 31 32 33\n",
      " 34 35 36 37 38 39 40 41 42 43 44 45 46 47 48 49 50]\n"
     ]
    }
   ],
   "source": [
    "import numpy as np\n",
    "arr=np.arange(10,51)\n",
    "print(arr)"
   ]
  },
  {
   "cell_type": "markdown",
   "id": "4bbaa3d0",
   "metadata": {},
   "source": [
    "Extracting elements from 5 to 15"
   ]
  },
  {
   "cell_type": "code",
   "execution_count": 5,
   "id": "029871b5",
   "metadata": {},
   "outputs": [
    {
     "name": "stdout",
     "output_type": "stream",
     "text": [
      "[15 16 17 18 19 20 21 22 23 24]\n"
     ]
    }
   ],
   "source": [
    "print(arr[5:15])"
   ]
  },
  {
   "cell_type": "markdown",
   "id": "f147ef64",
   "metadata": {},
   "source": [
    "Reverse the array"
   ]
  },
  {
   "cell_type": "code",
   "execution_count": 8,
   "id": "e5049806",
   "metadata": {},
   "outputs": [
    {
     "name": "stdout",
     "output_type": "stream",
     "text": [
      "[50 49 48 47 46 45 44 43 42 41 40 39 38 37 36 35 34 33 32 31 30 29 28 27\n",
      " 26 25 24 23 22 21 20 19 18 17 16 15 14 13 12 11 10]\n"
     ]
    }
   ],
   "source": [
    "print(arr[: :-1])"
   ]
  },
  {
   "cell_type": "markdown",
   "id": "b9d8162e",
   "metadata": {},
   "source": [
    "Print every 3rd element"
   ]
  },
  {
   "cell_type": "code",
   "execution_count": 9,
   "id": "65e1644b",
   "metadata": {},
   "outputs": [
    {
     "name": "stdout",
     "output_type": "stream",
     "text": [
      "[10 13 16 19 22 25 28 31 34 37 40 43 46 49]\n"
     ]
    }
   ],
   "source": [
    "print(arr[::3])"
   ]
  },
  {
   "cell_type": "markdown",
   "id": "0196e619",
   "metadata": {},
   "source": [
    "Exercise 2: 2D Array Indexing\n"
   ]
  },
  {
   "cell_type": "markdown",
   "id": "92e2392a",
   "metadata": {},
   "source": [
    "Create a 3×3 matrix with values 1 to 9."
   ]
  },
  {
   "cell_type": "code",
   "execution_count": 11,
   "id": "d0ebbdee",
   "metadata": {},
   "outputs": [
    {
     "name": "stdout",
     "output_type": "stream",
     "text": [
      "[[0 1 2]\n",
      " [4 5 6]\n",
      " [7 8 9]]\n"
     ]
    }
   ],
   "source": [
    "import numpy as np\n",
    "arr=np.array([[0,1,2],\n",
    "             [4,5,6],\n",
    "             [7,8,9]])\n",
    "print(arr)"
   ]
  },
  {
   "cell_type": "markdown",
   "id": "1612733b",
   "metadata": {},
   "source": [
    "Extract the second row."
   ]
  },
  {
   "cell_type": "code",
   "execution_count": 12,
   "id": "a21c2d8d",
   "metadata": {},
   "outputs": [
    {
     "name": "stdout",
     "output_type": "stream",
     "text": [
      "[4 5 6]\n"
     ]
    }
   ],
   "source": [
    "print(arr[1])"
   ]
  },
  {
   "cell_type": "markdown",
   "id": "66c26c57",
   "metadata": {},
   "source": [
    "Extract the first column."
   ]
  },
  {
   "cell_type": "code",
   "execution_count": 15,
   "id": "2f4a3ba8",
   "metadata": {},
   "outputs": [
    {
     "name": "stdout",
     "output_type": "stream",
     "text": [
      "[1 5 8]\n"
     ]
    }
   ],
   "source": [
    "print(arr[:,1])"
   ]
  },
  {
   "cell_type": "code",
   "execution_count": 16,
   "id": "fcc81209",
   "metadata": {},
   "outputs": [
    {
     "name": "stdout",
     "output_type": "stream",
     "text": [
      "[0 4 7]\n"
     ]
    }
   ],
   "source": [
    "print(arr[:,0])"
   ]
  },
  {
   "cell_type": "markdown",
   "id": "e17d495c",
   "metadata": {},
   "source": [
    "Extract a 2×2 submatrix from the top-left corner."
   ]
  },
  {
   "cell_type": "code",
   "execution_count": 24,
   "id": "49745925",
   "metadata": {},
   "outputs": [
    {
     "name": "stdout",
     "output_type": "stream",
     "text": [
      "[[0 1]\n",
      " [4 5]]\n"
     ]
    }
   ],
   "source": [
    "print(arr[:2,:2])"
   ]
  },
  {
   "cell_type": "markdown",
   "id": "539025bb",
   "metadata": {},
   "source": [
    "Exercise 3: Arithmetic Operations"
   ]
  },
  {
   "cell_type": "markdown",
   "id": "309214e7",
   "metadata": {},
   "source": [
    "Create two arrays: [1, 2, 3] and [4, 5, 6]."
   ]
  },
  {
   "cell_type": "code",
   "execution_count": 26,
   "id": "59f74838",
   "metadata": {},
   "outputs": [
    {
     "name": "stdout",
     "output_type": "stream",
     "text": [
      "[5 7 9]\n",
      "[-3 -3 -3]\n"
     ]
    }
   ],
   "source": [
    "import numpy as np\n",
    "a=np.array([1,2,3])\n",
    "b=np.array([4,5,6])\n",
    "#add\n",
    "print(a+b)\n",
    "#subtract\n",
    "print(a-b)"
   ]
  }
 ],
 "metadata": {
  "kernelspec": {
   "display_name": "Python 3",
   "language": "python",
   "name": "python3"
  },
  "language_info": {
   "codemirror_mode": {
    "name": "ipython",
    "version": 3
   },
   "file_extension": ".py",
   "mimetype": "text/x-python",
   "name": "python",
   "nbconvert_exporter": "python",
   "pygments_lexer": "ipython3",
   "version": "3.11.7"
  }
 },
 "nbformat": 4,
 "nbformat_minor": 5
}
