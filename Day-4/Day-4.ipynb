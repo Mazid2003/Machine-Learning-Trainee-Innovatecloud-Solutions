{
 "cells": [
  {
   "cell_type": "markdown",
   "id": "d0a66db2",
   "metadata": {},
   "source": [
    "Pandas"
   ]
  },
  {
   "cell_type": "markdown",
   "id": "d9ea6339",
   "metadata": {},
   "source": [
    "Importing pandas library"
   ]
  },
  {
   "cell_type": "code",
   "execution_count": 1,
   "id": "44a6f3bb",
   "metadata": {},
   "outputs": [],
   "source": [
    "import pandas as pd"
   ]
  },
  {
   "cell_type": "markdown",
   "id": "56974ffc",
   "metadata": {},
   "source": [
    "Reading data from dict"
   ]
  },
  {
   "cell_type": "code",
   "execution_count": 5,
   "id": "c1d348d0",
   "metadata": {},
   "outputs": [
    {
     "name": "stdout",
     "output_type": "stream",
     "text": [
      "          City  Sales  Expenses\n",
      "0     New York    250       150\n",
      "1  Los Angeles    150       100\n",
      "2     New York    200       120\n",
      "3      Chicago    300       200\n",
      "4  Los Angeles    400       220\n"
     ]
    }
   ],
   "source": [
    "import pandas as pd\n",
    "data ={\n",
    "    'City': ['New York', 'Los Angeles', 'New York', 'Chicago', 'Los Angeles'],\n",
    "    'Sales': [250, 150, 200, 300, 400],\n",
    "    'Expenses': [150, 100, 120, 200, 220]\n",
    "}\n",
    "sd=pd.DataFrame(data)\n",
    "print(sd)"
   ]
  },
  {
   "cell_type": "markdown",
   "id": "ab1b8837",
   "metadata": {},
   "source": [
    "Reading data from list and series"
   ]
  },
  {
   "cell_type": "code",
   "execution_count": 6,
   "id": "217fe32a",
   "metadata": {},
   "outputs": [
    {
     "name": "stdout",
     "output_type": "stream",
     "text": [
      "      Name  Age\n",
      "0    Alice   25\n",
      "1      Bob   30\n",
      "2  Charlie   35\n",
      "3    David   40\n"
     ]
    }
   ],
   "source": [
    "names = pd.Series(['Alice', 'Bob', 'Charlie', 'David'])\n",
    "ages = pd.Series([25, 30, 35, 40])\n",
    "\n",
    "df = pd.DataFrame({\n",
    "    'Name': names,\n",
    "    'Age': ages\n",
    "})\n",
    "\n",
    "print(df)"
   ]
  },
  {
   "cell_type": "markdown",
   "id": "6a2aa7bf",
   "metadata": {},
   "source": [
    "Reading data from list of Dictionary"
   ]
  },
  {
   "cell_type": "code",
   "execution_count": null,
   "id": "1a45201c",
   "metadata": {},
   "outputs": [
    {
     "name": "stdout",
     "output_type": "stream",
     "text": [
      "    Name  Age         City\n",
      "0  Alice   25     New York\n",
      "1    Bob   30  Los Angeles\n"
     ]
    }
   ],
   "source": [
    "import pandas as pd\n",
    "data = [\n",
    "    {'Name': 'Alice', 'Age': 25, 'City': 'New York'},\n",
    "    {'Name': 'Bob', 'Age': 30, 'City': 'Los Angeles'}\n",
    "]\n",
    "\n",
    "df = pd.DataFrame(data)\n",
    "print(df)"
   ]
  },
  {
   "cell_type": "markdown",
   "id": "2d7aeb11",
   "metadata": {},
   "source": [
    "How to read a csv file"
   ]
  },
  {
   "cell_type": "code",
   "execution_count": null,
   "id": "93e46708",
   "metadata": {},
   "outputs": [],
   "source": [
    "import pandas as pd\n",
    "data = pd.read_csv(\"File_path.csv\")"
   ]
  },
  {
   "cell_type": "markdown",
   "id": "67d880a2",
   "metadata": {},
   "source": [
    "Basic inspection methods"
   ]
  },
  {
   "cell_type": "code",
   "execution_count": null,
   "id": "b461e936",
   "metadata": {},
   "outputs": [],
   "source": [
    "print(df.head())      # First 5 rows\n",
    "print(df.tail())      # Last 5 rows\n",
    "print(df.shape)       # (rows, columns)\n",
    "print(df.columns)     # List of column names\n",
    "print(df.info())      # Summary (data types, null counts)\n",
    "print(df.describe())  # Statistical summary for numerical columns\n"
   ]
  },
  {
   "cell_type": "markdown",
   "id": "73733cbc",
   "metadata": {},
   "source": [
    "Accessing columns in a dataset\n"
   ]
  },
  {
   "cell_type": "code",
   "execution_count": null,
   "id": "256cad1a",
   "metadata": {},
   "outputs": [],
   "source": [
    "print(df['Name'])     # Access single column (Series)\n",
    "print(df[['Name', 'Age']])  # Access multiple columns (DataFrame) and also more columns\n"
   ]
  },
  {
   "cell_type": "markdown",
   "id": "aaa48fce",
   "metadata": {},
   "source": [
    "Accessing rows in a dataset"
   ]
  },
  {
   "cell_type": "code",
   "execution_count": null,
   "id": "15a2758d",
   "metadata": {},
   "outputs": [],
   "source": [
    "#By index label:\n",
    "\n",
    "print(df.loc[2])\n",
    "#By integer position:\n",
    "\n",
    "print(df.iloc[2])"
   ]
  },
  {
   "cell_type": "markdown",
   "id": "0956bea1",
   "metadata": {},
   "source": [
    "\n",
    "Boolean Filtering\n"
   ]
  },
  {
   "cell_type": "code",
   "execution_count": 8,
   "id": "aa08de59",
   "metadata": {},
   "outputs": [
    {
     "name": "stdout",
     "output_type": "stream",
     "text": [
      "      Name  Age     City\n",
      "2  Charlie   35  Chicago\n",
      "3    David   40  Houston\n"
     ]
    }
   ],
   "source": [
    "# Example DataFrame\n",
    "import pandas as pd\n",
    "df = pd.DataFrame({\n",
    "    'Name': ['Alice', 'Bob', 'Charlie', 'David'],\n",
    "    'Age': [25, 30, 35, 40],\n",
    "    'City': ['New York', 'Los Angeles', 'Chicago', 'Houston']\n",
    "})\n",
    "\n",
    "# Filter rows where Age is greater than 30\n",
    "filtered_df = df[df['Age'] > 30]\n",
    "print(filtered_df)"
   ]
  },
  {
   "cell_type": "markdown",
   "id": "769c93ca",
   "metadata": {},
   "source": [
    "For multiple conditions"
   ]
  },
  {
   "cell_type": "code",
   "execution_count": 9,
   "id": "5ae1e9ea",
   "metadata": {},
   "outputs": [
    {
     "name": "stdout",
     "output_type": "stream",
     "text": [
      "      Name  Age     City\n",
      "2  Charlie   35  Chicago\n",
      "3    David   40  Houston\n"
     ]
    }
   ],
   "source": [
    "#Use & (and), | (or), ~ (not) operators.\n",
    "\n",
    "# Age > 25 AND City is Chicago or Houston\n",
    "filtered_df = df[(df['Age'] > 25) & (df['City'].isin(['Chicago', 'Houston']))]\n",
    "print(filtered_df)"
   ]
  },
  {
   "cell_type": "markdown",
   "id": "de9614c5",
   "metadata": {},
   "source": [
    "Example 1: Import CSV and Filter"
   ]
  },
  {
   "cell_type": "code",
   "execution_count": 11,
   "id": "cf9fd4d8",
   "metadata": {},
   "outputs": [
    {
     "name": "stdout",
     "output_type": "stream",
     "text": [
      "  Order ID  Amount  Profit  Quantity     Category      Sub-Category  \\\n",
      "0  B-26776    9726    1275         5  Electronics  Electronic Games   \n",
      "1  B-26776    9726    1275         5  Electronics  Electronic Games   \n",
      "2  B-26776    9726    1275         5  Electronics  Electronic Games   \n",
      "3  B-26776    4975    1330        14  Electronics          Printers   \n",
      "4  B-26776    4975    1330        14  Electronics          Printers   \n",
      "\n",
      "  PaymentMode  Order Date   CustomerName     State     City Year-Month  \n",
      "0         UPI  2023-06-27  David Padilla   Florida    Miami    2023-06  \n",
      "1         UPI  2024-12-27  Connor Morgan  Illinois  Chicago    2024-12  \n",
      "2         UPI  2021-07-25   Robert Stone  New York  Buffalo    2021-07  \n",
      "3         UPI  2023-06-27  David Padilla   Florida    Miami    2023-06  \n",
      "4         UPI  2024-12-27  Connor Morgan  Illinois  Chicago    2024-12  \n"
     ]
    }
   ],
   "source": [
    "import pandas as pd\n",
    "data=pd.read_csv(\"Sales Dataset.csv\")\n",
    "# Filter where Sales > 1000\n",
    "high_sales = data[data['Profit'] > 1000]\n",
    "\n",
    "print(high_sales.head())\n"
   ]
  },
  {
   "cell_type": "markdown",
   "id": "3a277038",
   "metadata": {},
   "source": [
    "Group sales by product category"
   ]
  },
  {
   "cell_type": "code",
   "execution_count": 12,
   "id": "7f20bdea",
   "metadata": {},
   "outputs": [
    {
     "name": "stdout",
     "output_type": "stream",
     "text": [
      "Amount\n",
      "508      1062\n",
      "514       218\n",
      "523        95\n",
      "526        83\n",
      "531       189\n",
      "        ...  \n",
      "9921     1451\n",
      "9952     3301\n",
      "9965     6066\n",
      "9989    11790\n",
      "9992    11088\n",
      "Name: Profit, Length: 773, dtype: int64\n"
     ]
    }
   ],
   "source": [
    "group=data.groupby('Amount')['Profit'].sum()\n",
    "print(group)\n",
    "      "
   ]
  },
  {
   "cell_type": "markdown",
   "id": "dd2d2f60",
   "metadata": {},
   "source": [
    "Example 3: Filtering and grouping together"
   ]
  },
  {
   "cell_type": "code",
   "execution_count": null,
   "id": "3e5af9a8",
   "metadata": {},
   "outputs": [],
   "source": [
    "filtered = df[df['Region'] == 'North']\n",
    "grouped = filtered.groupby('Product')['Profit'].mean()\n",
    "print(grouped)"
   ]
  }
 ],
 "metadata": {
  "kernelspec": {
   "display_name": "Python 3",
   "language": "python",
   "name": "python3"
  },
  "language_info": {
   "codemirror_mode": {
    "name": "ipython",
    "version": 3
   },
   "file_extension": ".py",
   "mimetype": "text/x-python",
   "name": "python",
   "nbconvert_exporter": "python",
   "pygments_lexer": "ipython3",
   "version": "3.11.7"
  }
 },
 "nbformat": 4,
 "nbformat_minor": 5
}
