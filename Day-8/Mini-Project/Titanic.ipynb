{
 "cells": [
  {
   "cell_type": "markdown",
   "id": "72ea417d",
   "metadata": {},
   "source": [
    "## Titanic Classification: Use logistic regression to predict if a passenger survived."
   ]
  },
  {
   "cell_type": "markdown",
   "id": "6cc8cdcf",
   "metadata": {},
   "source": [
    "1. Importing packages and libraries"
   ]
  },
  {
   "cell_type": "code",
   "execution_count": 2,
   "id": "13729fc0",
   "metadata": {},
   "outputs": [],
   "source": [
    "import pandas as pd\n",
    "import numpy as np\n",
    "import seaborn as sns\n",
    "from sklearn.linear_model import LogisticRegression\n",
    "from sklearn.model_selection import train_test_split\n",
    "from sklearn.metrics import accuracy_score,confusion_matrix\n",
    "import matplotlib.pyplot as plt"
   ]
  },
  {
   "cell_type": "markdown",
   "id": "24be3ca3",
   "metadata": {},
   "source": [
    "2. Loading the dataset from seaborn library"
   ]
  },
  {
   "cell_type": "code",
   "execution_count": 3,
   "id": "2c3868b2",
   "metadata": {},
   "outputs": [],
   "source": [
    "titanic= sns.load_dataset('titanic')\n"
   ]
  },
  {
   "cell_type": "markdown",
   "id": "10f0257c",
   "metadata": {},
   "source": [
    "3. Cleaning the dataSet"
   ]
  },
  {
   "cell_type": "code",
   "execution_count": 4,
   "id": "278a1ab9",
   "metadata": {},
   "outputs": [
    {
     "name": "stdout",
     "output_type": "stream",
     "text": [
      "   survived  pclass  sex   age  sibsp  parch     fare  embarked  alone\n",
      "0         0       3    0  22.0      1      0   7.2500         0  False\n",
      "1         1       1    1  38.0      1      0  71.2833         1  False\n",
      "2         1       3    1  26.0      0      0   7.9250         0   True\n",
      "3         1       1    1  35.0      1      0  53.1000         0  False\n",
      "4         0       3    0  35.0      0      0   8.0500         0   True\n"
     ]
    }
   ],
   "source": [
    "titanic.drop(['deck', 'embark_town', 'alive', 'who', 'adult_male', 'class'], axis=1, inplace=True)\n",
    "\n",
    "# Drop rows with missing values (simple cleaning)\n",
    "titanic.dropna(inplace=True)\n",
    "\n",
    "# Encode categorical variables\n",
    "titanic['sex'] = titanic['sex'].map({'male': 0, 'female': 1})\n",
    "titanic['embarked'] = titanic['embarked'].map({'S': 0, 'C': 1, 'Q': 2})\n",
    "\n",
    "# View cleaned data\n",
    "print(titanic.head())"
   ]
  },
  {
   "cell_type": "markdown",
   "id": "c1f4fe7a",
   "metadata": {},
   "source": [
    "4. Training the dataset"
   ]
  },
  {
   "cell_type": "code",
   "execution_count": 8,
   "id": "c31eb955",
   "metadata": {},
   "outputs": [],
   "source": [
    "X=titanic.drop('survived',axis=1)\n",
    "y=titanic['survived']\n",
    "X_train, X_test, y_train, y_test=train_test_split(X,y,test_size=0.2, random_state=42)"
   ]
  },
  {
   "cell_type": "markdown",
   "id": "992a6e56",
   "metadata": {},
   "source": [
    "5. Training the Model"
   ]
  },
  {
   "cell_type": "code",
   "execution_count": 9,
   "id": "b3c45541",
   "metadata": {},
   "outputs": [
    {
     "name": "stderr",
     "output_type": "stream",
     "text": [
      "c:\\Users\\USER\\AppData\\Local\\Programs\\Python\\Python311\\Lib\\site-packages\\sklearn\\linear_model\\_logistic.py:465: ConvergenceWarning: lbfgs failed to converge (status=1):\n",
      "STOP: TOTAL NO. of ITERATIONS REACHED LIMIT.\n",
      "\n",
      "Increase the number of iterations (max_iter) or scale the data as shown in:\n",
      "    https://scikit-learn.org/stable/modules/preprocessing.html\n",
      "Please also refer to the documentation for alternative solver options:\n",
      "    https://scikit-learn.org/stable/modules/linear_model.html#logistic-regression\n",
      "  n_iter_i = _check_optimize_result(\n"
     ]
    }
   ],
   "source": [
    "model=LogisticRegression()\n",
    "model.fit(X_train, y_train)\n",
    "y_pred = model.predict(X_test)\n",
    "\n"
   ]
  },
  {
   "cell_type": "markdown",
   "id": "12b75ec0",
   "metadata": {},
   "source": [
    "6. Printing the results"
   ]
  },
  {
   "cell_type": "code",
   "execution_count": 10,
   "id": "7a7043a2",
   "metadata": {},
   "outputs": [
    {
     "name": "stdout",
     "output_type": "stream",
     "text": [
      "Accuracy: 0.7692307692307693\n",
      "Confusion Matrix:n [[69 11]\n",
      " [22 41]]\n"
     ]
    }
   ],
   "source": [
    "print(\"Accuracy:\", accuracy_score(y_test, y_pred))\n",
    "print(\"Confusion Matrix:n\", confusion_matrix(y_test, y_pred))"
   ]
  },
  {
   "cell_type": "markdown",
   "id": "c1abc189",
   "metadata": {},
   "source": [
    "7. Visual Representation"
   ]
  },
  {
   "cell_type": "code",
   "execution_count": 11,
   "id": "e379d779",
   "metadata": {},
   "outputs": [
    {
     "data": {
      "image/png": "[encoded data removed]",
      "text/plain": [
       "<Figure size 640x480 with 2 Axes>"
      ]
     },
     "metadata": {},
     "output_type": "display_data"
    }
   ],
   "source": [
    "\n",
    "\n",
    "# Confusion Matrix Heatmap\n",
    "cm = confusion_matrix(y_test, y_pred)\n",
    "sns.heatmap(cm, annot=True, fmt='d', cmap='Blues', xticklabels=['Not Survived', 'Survived'], yticklabels=['Not Survived', 'Survived'])\n",
    "plt.xlabel('Predicted')\n",
    "plt.ylabel('Actual')\n",
    "plt.title('Confusion Matrix')\n",
    "plt.show()\n"
   ]
  },
  {
   "cell_type": "markdown",
   "id": "29e4cd56",
   "metadata": {},
   "source": [
    "8. short interpretation of their findings"
   ]
  },
  {
   "cell_type": "markdown",
   "id": "35d23f3f",
   "metadata": {},
   "source": [
    "- Positive coefficients → increase in survival probability.\n",
    "\n",
    "- Negative coefficients → decrease in survival probability.\n",
    "\n",
    "- Larger absolute values → more influence on prediction."
   ]
  }
 ],
 "metadata": {
  "kernelspec": {
   "display_name": "Python 3",
   "language": "python",
   "name": "python3"
  },
  "language_info": {
   "codemirror_mode": {
    "name": "ipython",
    "version": 3
   },
   "file_extension": ".py",
   "mimetype": "text/x-python",
   "name": "python",
   "nbconvert_exporter": "python",
   "pygments_lexer": "ipython3",
   "version": "3.11.7"
  }
 },
 "nbformat": 4,
 "nbformat_minor": 5
}
