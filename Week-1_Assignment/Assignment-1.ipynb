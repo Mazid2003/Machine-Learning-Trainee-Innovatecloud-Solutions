{
 "cells": [
  {
   "cell_type": "markdown",
   "id": "7e3baf1a",
   "metadata": {},
   "source": [
    "🧹 Data Cleaning & Analysis Summary\n",
    "\n",
    "✅ Cleaning Steps Taken:\n",
    "\n",
    "Handled Missing Values:\n",
    "\n",
    "Filled missing values in Quantity and Price with the mean of their respective columns.\n",
    "\n",
    "Filled missing values in categorical columns (Customer Name, Region) with \"Unknown\".\n",
    "\n",
    "Filled missing Sale Date values with the most frequent date (mode).\n",
    "\n",
    "Removed Duplicates:\n",
    "\n",
    "Duplicate rows based on all columns were identified and removed to avoid skewed results.\n",
    "\n",
    "Renamed Columns (if needed):\n",
    "\n",
    "Ensured column names are clear and consistent for readability and easier access.\n",
    "\n",
    "Created Derived Columns:\n",
    "\n",
    "Added a new column Total_Sale = Quantity × Price to analyze revenue.\n",
    "\n",
    "Saved Cleaned Data:\n",
    "\n",
    "Exported the final cleaned DataFrame as sales_data_cleaned.csv.\n",
    "\n",
    "📊 Key Insights:\n",
    "\n",
    "Top-Selling Products: The top 3 products by quantity sold were identified to understand product popularity.\n",
    "\n",
    "Sales by Region: A bar chart visualized total quantity sold by each region, highlighting regional performance.\n",
    "\n",
    "Highest Sales Day: Identified the date with the maximum total sales, useful for understanding sales peaks.\n",
    "\n",
    "Summary Statistics:\n",
    "\n",
    "Provided mean, median, min, and max for Quantity and Price to describe numerical trends.\n",
    "\n"
   ]
  },
  {
   "cell_type": "markdown",
   "id": "d6720bfe",
   "metadata": {},
   "source": [
    "Clean and Summarize a Messy Sales Dataset Using Pandas"
   ]
  },
  {
   "cell_type": "markdown",
   "id": "c8c47f2f",
   "metadata": {},
   "source": [
    "Given Sample Dataset"
   ]
  },
  {
   "cell_type": "code",
   "execution_count": 7,
   "id": "2a172d19",
   "metadata": {},
   "outputs": [
    {
     "name": "stdout",
     "output_type": "stream",
     "text": [
      "CSV file 'sales_data.csv' saved successfully.\n"
     ]
    }
   ],
   "source": [
    "data = \"\"\"Customer Name,Product,Quantity,Price,Sale Date,Region\n",
    "Alice,Keyboard,5,25.0,2023-05-01,North\n",
    "Bob,Mouse,3,,2023-05-03,South\n",
    ",Monitor,2,150.0,2023-05-01,East\n",
    "David,Keyboard,5,25.0,2023-05-01,North\n",
    "Alice,Keyboard,5,25.0,2023-05-01,North\n",
    "Eve,Laptop,,900.0,,West\n",
    "Frank,Mouse,1,20.0,2023-05-04,\n",
    "Grace,Monitor,2,150.0,2023-05-02,East\n",
    "Bob,Mouse,3,,2023-05-03,South\n",
    "Henry,Laptop,1,900.0,2023-05-05,West\n",
    "Ivy,Keyboard,4,25.0,2023-05-01,North\"\"\"\n",
    "\n",
    "# Write the string data directly to a .csv file\n",
    "with open(\"sales_data.csv\", \"w\") as file:\n",
    "    file.write(data)\n",
    "\n",
    "print(\"CSV file 'sales_data.csv' saved successfully.\")\n"
   ]
  },
  {
   "cell_type": "markdown",
   "id": "cd264667",
   "metadata": {},
   "source": [
    "Tasks:\n"
   ]
  },
  {
   "cell_type": "markdown",
   "id": "e899d173",
   "metadata": {},
   "source": [
    "1. Load the Data"
   ]
  },
  {
   "cell_type": "code",
   "execution_count": 8,
   "id": "dfe8c14d",
   "metadata": {},
   "outputs": [
    {
     "name": "stdout",
     "output_type": "stream",
     "text": [
      "   Customer Name   Product  Quantity  Price   Sale Date Region\n",
      "0          Alice  Keyboard       5.0   25.0  2023-05-01  North\n",
      "1            Bob     Mouse       3.0    NaN  2023-05-03  South\n",
      "2            NaN   Monitor       2.0  150.0  2023-05-01   East\n",
      "3          David  Keyboard       5.0   25.0  2023-05-01  North\n",
      "4          Alice  Keyboard       5.0   25.0  2023-05-01  North\n",
      "5            Eve    Laptop       NaN  900.0         NaN   West\n",
      "6          Frank     Mouse       1.0   20.0  2023-05-04    NaN\n",
      "7          Grace   Monitor       2.0  150.0  2023-05-02   East\n",
      "8            Bob     Mouse       3.0    NaN  2023-05-03  South\n",
      "9          Henry    Laptop       1.0  900.0  2023-05-05   West\n",
      "10           Ivy  Keyboard       4.0   25.0  2023-05-01  North\n"
     ]
    }
   ],
   "source": [
    "import pandas as pd\n",
    "df=pd.read_csv('sales_data.csv')#Import the CSV file into a Pandas DataFrame.\n",
    "print(df)"
   ]
  },
  {
   "cell_type": "code",
   "execution_count": 9,
   "id": "8fe9e7e0",
   "metadata": {},
   "outputs": [
    {
     "data": {
      "text/html": [
       "<div>\n",
       "<style scoped>\n",
       "    .dataframe tbody tr th:only-of-type {\n",
       "        vertical-align: middle;\n",
       "    }\n",
       "\n",
       "    .dataframe tbody tr th {\n",
       "        vertical-align: top;\n",
       "    }\n",
       "\n",
       "    .dataframe thead th {\n",
       "        text-align: right;\n",
       "    }\n",
       "</style>\n",
       "<table border=\"1\" class=\"dataframe\">\n",
       "  <thead>\n",
       "    <tr style=\"text-align: right;\">\n",
       "      <th></th>\n",
       "      <th>Customer Name</th>\n",
       "      <th>Product</th>\n",
       "      <th>Quantity</th>\n",
       "      <th>Price</th>\n",
       "      <th>Sale Date</th>\n",
       "      <th>Region</th>\n",
       "    </tr>\n",
       "  </thead>\n",
       "  <tbody>\n",
       "    <tr>\n",
       "      <th>0</th>\n",
       "      <td>Alice</td>\n",
       "      <td>Keyboard</td>\n",
       "      <td>5.0</td>\n",
       "      <td>25.0</td>\n",
       "      <td>2023-05-01</td>\n",
       "      <td>North</td>\n",
       "    </tr>\n",
       "    <tr>\n",
       "      <th>1</th>\n",
       "      <td>Bob</td>\n",
       "      <td>Mouse</td>\n",
       "      <td>3.0</td>\n",
       "      <td>NaN</td>\n",
       "      <td>2023-05-03</td>\n",
       "      <td>South</td>\n",
       "    </tr>\n",
       "    <tr>\n",
       "      <th>2</th>\n",
       "      <td>NaN</td>\n",
       "      <td>Monitor</td>\n",
       "      <td>2.0</td>\n",
       "      <td>150.0</td>\n",
       "      <td>2023-05-01</td>\n",
       "      <td>East</td>\n",
       "    </tr>\n",
       "    <tr>\n",
       "      <th>3</th>\n",
       "      <td>David</td>\n",
       "      <td>Keyboard</td>\n",
       "      <td>5.0</td>\n",
       "      <td>25.0</td>\n",
       "      <td>2023-05-01</td>\n",
       "      <td>North</td>\n",
       "    </tr>\n",
       "    <tr>\n",
       "      <th>4</th>\n",
       "      <td>Alice</td>\n",
       "      <td>Keyboard</td>\n",
       "      <td>5.0</td>\n",
       "      <td>25.0</td>\n",
       "      <td>2023-05-01</td>\n",
       "      <td>North</td>\n",
       "    </tr>\n",
       "    <tr>\n",
       "      <th>5</th>\n",
       "      <td>Eve</td>\n",
       "      <td>Laptop</td>\n",
       "      <td>NaN</td>\n",
       "      <td>900.0</td>\n",
       "      <td>NaN</td>\n",
       "      <td>West</td>\n",
       "    </tr>\n",
       "    <tr>\n",
       "      <th>6</th>\n",
       "      <td>Frank</td>\n",
       "      <td>Mouse</td>\n",
       "      <td>1.0</td>\n",
       "      <td>20.0</td>\n",
       "      <td>2023-05-04</td>\n",
       "      <td>NaN</td>\n",
       "    </tr>\n",
       "    <tr>\n",
       "      <th>7</th>\n",
       "      <td>Grace</td>\n",
       "      <td>Monitor</td>\n",
       "      <td>2.0</td>\n",
       "      <td>150.0</td>\n",
       "      <td>2023-05-02</td>\n",
       "      <td>East</td>\n",
       "    </tr>\n",
       "    <tr>\n",
       "      <th>8</th>\n",
       "      <td>Bob</td>\n",
       "      <td>Mouse</td>\n",
       "      <td>3.0</td>\n",
       "      <td>NaN</td>\n",
       "      <td>2023-05-03</td>\n",
       "      <td>South</td>\n",
       "    </tr>\n",
       "    <tr>\n",
       "      <th>9</th>\n",
       "      <td>Henry</td>\n",
       "      <td>Laptop</td>\n",
       "      <td>1.0</td>\n",
       "      <td>900.0</td>\n",
       "      <td>2023-05-05</td>\n",
       "      <td>West</td>\n",
       "    </tr>\n",
       "  </tbody>\n",
       "</table>\n",
       "</div>"
      ],
      "text/plain": [
       "  Customer Name   Product  Quantity  Price   Sale Date Region\n",
       "0         Alice  Keyboard       5.0   25.0  2023-05-01  North\n",
       "1           Bob     Mouse       3.0    NaN  2023-05-03  South\n",
       "2           NaN   Monitor       2.0  150.0  2023-05-01   East\n",
       "3         David  Keyboard       5.0   25.0  2023-05-01  North\n",
       "4         Alice  Keyboard       5.0   25.0  2023-05-01  North\n",
       "5           Eve    Laptop       NaN  900.0         NaN   West\n",
       "6         Frank     Mouse       1.0   20.0  2023-05-04    NaN\n",
       "7         Grace   Monitor       2.0  150.0  2023-05-02   East\n",
       "8           Bob     Mouse       3.0    NaN  2023-05-03  South\n",
       "9         Henry    Laptop       1.0  900.0  2023-05-05   West"
      ]
     },
     "execution_count": 9,
     "metadata": {},
     "output_type": "execute_result"
    }
   ],
   "source": [
    "#Display the first 10 rows and basic info of the dataset.\n",
    "\n",
    "df.head(10)"
   ]
  },
  {
   "cell_type": "markdown",
   "id": "7c866bbc",
   "metadata": {},
   "source": [
    "2. Explore Missing Values"
   ]
  },
  {
   "cell_type": "code",
   "execution_count": 10,
   "id": "050ab9d8",
   "metadata": {},
   "outputs": [
    {
     "name": "stdout",
     "output_type": "stream",
     "text": [
      "    Customer Name  Product  Quantity  Price  Sale Date  Region\n",
      "0           False    False     False  False      False   False\n",
      "1           False    False     False   True      False   False\n",
      "2            True    False     False  False      False   False\n",
      "3           False    False     False  False      False   False\n",
      "4           False    False     False  False      False   False\n",
      "5           False    False      True  False       True   False\n",
      "6           False    False     False  False      False    True\n",
      "7           False    False     False  False      False   False\n",
      "8           False    False     False   True      False   False\n",
      "9           False    False     False  False      False   False\n",
      "10          False    False     False  False      False   False\n"
     ]
    }
   ],
   "source": [
    "#Identify which columns contain null values.\n",
    "print(df.isnull())"
   ]
  },
  {
   "cell_type": "code",
   "execution_count": 11,
   "id": "a159dd0b",
   "metadata": {},
   "outputs": [
    {
     "name": "stdout",
     "output_type": "stream",
     "text": [
      "Customer Name    1\n",
      "Product          0\n",
      "Quantity         1\n",
      "Price            2\n",
      "Sale Date        1\n",
      "Region           1\n",
      "dtype: int64\n"
     ]
    }
   ],
   "source": [
    "#Count the number of null values in each column.\n",
    "print(df.isnull().sum())"
   ]
  },
  {
   "cell_type": "markdown",
   "id": "fa69533d",
   "metadata": {},
   "source": [
    "3. Handle Missing Values"
   ]
  },
  {
   "cell_type": "code",
   "execution_count": 18,
   "id": "f31513d8",
   "metadata": {},
   "outputs": [
    {
     "name": "stdout",
     "output_type": "stream",
     "text": [
      "   Customer Name   Product  Quantity       Price   Sale Date Region\n",
      "0          Alice  Keyboard       5.0   25.000000  2023-05-01  North\n",
      "1            Bob     Mouse       3.0  246.666667  2023-05-03  South\n",
      "2            NaN   Monitor       2.0  150.000000  2023-05-01   East\n",
      "3          David  Keyboard       5.0   25.000000  2023-05-01  North\n",
      "4          Alice  Keyboard       5.0   25.000000  2023-05-01  North\n",
      "5            Eve    Laptop       3.1  900.000000         NaN   West\n",
      "6          Frank     Mouse       1.0   20.000000  2023-05-04    NaN\n",
      "7          Grace   Monitor       2.0  150.000000  2023-05-02   East\n",
      "8            Bob     Mouse       3.0  246.666667  2023-05-03  South\n",
      "9          Henry    Laptop       1.0  900.000000  2023-05-05   West\n",
      "10           Ivy  Keyboard       4.0   25.000000  2023-05-01  North\n"
     ]
    }
   ],
   "source": [
    "# Fill missing values in the quantity and price columns with the mean of their respective columns.\n",
    "#mean_age = df['Quantity'].mean()\n",
    "#df['Quantity'].fillna(mean_age, inplace=True)\n",
    "df['Quantity'] = df['Quantity'].fillna(df['Quantity'].mean())\n",
    "df['Price']= df['Price'].fillna(df['Price'].mean())\n",
    "print(df)\n"
   ]
  },
  {
   "cell_type": "code",
   "execution_count": 19,
   "id": "be64d6cc",
   "metadata": {},
   "outputs": [
    {
     "name": "stdout",
     "output_type": "stream",
     "text": [
      "   Customer Name   Product  Quantity       Price   Sale Date   Region\n",
      "0          Alice  Keyboard       5.0   25.000000  2023-05-01    North\n",
      "1            Bob     Mouse       3.0  246.666667  2023-05-03    South\n",
      "2        Unknown   Monitor       2.0  150.000000  2023-05-01     East\n",
      "3          David  Keyboard       5.0   25.000000  2023-05-01    North\n",
      "4          Alice  Keyboard       5.0   25.000000  2023-05-01    North\n",
      "5            Eve    Laptop       3.1  900.000000         NaN     West\n",
      "6          Frank     Mouse       1.0   20.000000  2023-05-04  Unknown\n",
      "7          Grace   Monitor       2.0  150.000000  2023-05-02     East\n",
      "8            Bob     Mouse       3.0  246.666667  2023-05-03    South\n",
      "9          Henry    Laptop       1.0  900.000000  2023-05-05     West\n",
      "10           Ivy  Keyboard       4.0   25.000000  2023-05-01    North\n"
     ]
    }
   ],
   "source": [
    "# Fill missing values in categorical columns like customer_name and region with \"Unknown\"\n",
    "\n",
    "df['Customer Name'] = df['Customer Name'].fillna('Unknown')\n",
    "df['Region'] = df['Region'].fillna('Unknown')\n",
    "print(df)"
   ]
  },
  {
   "cell_type": "code",
   "execution_count": 21,
   "id": "08ff5eee",
   "metadata": {},
   "outputs": [
    {
     "name": "stdout",
     "output_type": "stream",
     "text": [
      "   Customer Name   Product  Quantity       Price   Sale Date   Region\n",
      "0          Alice  Keyboard       5.0   25.000000  2023-05-01    North\n",
      "1            Bob     Mouse       3.0  246.666667  2023-05-03    South\n",
      "2        Unknown   Monitor       2.0  150.000000  2023-05-01     East\n",
      "3          David  Keyboard       5.0   25.000000  2023-05-01    North\n",
      "4          Alice  Keyboard       5.0   25.000000  2023-05-01    North\n",
      "5            Eve    Laptop       3.1  900.000000  2023-05-01     West\n",
      "6          Frank     Mouse       1.0   20.000000  2023-05-04  Unknown\n",
      "7          Grace   Monitor       2.0  150.000000  2023-05-02     East\n",
      "8            Bob     Mouse       3.0  246.666667  2023-05-03    South\n",
      "9          Henry    Laptop       1.0  900.000000  2023-05-05     West\n",
      "10           Ivy  Keyboard       4.0   25.000000  2023-05-01    North\n"
     ]
    }
   ],
   "source": [
    "#For missing dates in the sale_date column, fill with the most common sale date (mode).\n",
    "\n",
    "mode_date = df['Sale Date'].mode()[0]\n",
    "df['Sale Date'] = df['Sale Date'].fillna(mode_date)\n",
    "print(df)"
   ]
  },
  {
   "cell_type": "markdown",
   "id": "215ad621",
   "metadata": {},
   "source": [
    "4. Remove Duplicate Records"
   ]
  },
  {
   "cell_type": "code",
   "execution_count": 22,
   "id": "77bb65d2",
   "metadata": {},
   "outputs": [
    {
     "name": "stdout",
     "output_type": "stream",
     "text": [
      "0     False\n",
      "1     False\n",
      "2     False\n",
      "3     False\n",
      "4      True\n",
      "5     False\n",
      "6     False\n",
      "7     False\n",
      "8      True\n",
      "9     False\n",
      "10    False\n",
      "dtype: bool\n"
     ]
    }
   ],
   "source": [
    "# Identify any duplicate rows.\n",
    "print(df.duplicated())"
   ]
  },
  {
   "cell_type": "code",
   "execution_count": 23,
   "id": "81258f80",
   "metadata": {},
   "outputs": [
    {
     "name": "stdout",
     "output_type": "stream",
     "text": [
      "   Customer Name   Product  Quantity       Price   Sale Date   Region\n",
      "0          Alice  Keyboard       5.0   25.000000  2023-05-01    North\n",
      "1            Bob     Mouse       3.0  246.666667  2023-05-03    South\n",
      "2        Unknown   Monitor       2.0  150.000000  2023-05-01     East\n",
      "3          David  Keyboard       5.0   25.000000  2023-05-01    North\n",
      "5            Eve    Laptop       3.1  900.000000  2023-05-01     West\n",
      "6          Frank     Mouse       1.0   20.000000  2023-05-04  Unknown\n",
      "7          Grace   Monitor       2.0  150.000000  2023-05-02     East\n",
      "9          Henry    Laptop       1.0  900.000000  2023-05-05     West\n",
      "10           Ivy  Keyboard       4.0   25.000000  2023-05-01    North\n"
     ]
    }
   ],
   "source": [
    "# Remove duplicate rows, keeping the first occurrence.\n",
    "print(df.drop_duplicates(keep='first'))"
   ]
  },
  {
   "cell_type": "markdown",
   "id": "7476188c",
   "metadata": {},
   "source": [
    "5. Rename Columns"
   ]
  },
  {
   "cell_type": "code",
   "execution_count": 26,
   "id": "b08b31d5",
   "metadata": {},
   "outputs": [
    {
     "name": "stdout",
     "output_type": "stream",
     "text": [
      "   customer_name   Product  Quantity       Price   Sale Date   Region\n",
      "0          Alice  Keyboard       5.0   25.000000  2023-05-01    North\n",
      "1            Bob     Mouse       3.0  246.666667  2023-05-03    South\n",
      "2        Unknown   Monitor       2.0  150.000000  2023-05-01     East\n",
      "3          David  Keyboard       5.0   25.000000  2023-05-01    North\n",
      "4          Alice  Keyboard       5.0   25.000000  2023-05-01    North\n",
      "5            Eve    Laptop       3.1  900.000000  2023-05-01     West\n",
      "6          Frank     Mouse       1.0   20.000000  2023-05-04  Unknown\n",
      "7          Grace   Monitor       2.0  150.000000  2023-05-02     East\n",
      "8            Bob     Mouse       3.0  246.666667  2023-05-03    South\n",
      "9          Henry    Laptop       1.0  900.000000  2023-05-05     West\n",
      "10           Ivy  Keyboard       4.0   25.000000  2023-05-01    North\n"
     ]
    }
   ],
   "source": [
    "# Rename the columns to be all lowercase and replace spaces with underscores (e.g., \"Customer Name\" → \"customer_name\").\n",
    "\n",
    "df.rename(columns={'Customer Name': 'customer_name'},inplace=True)\n",
    "print(df)\n"
   ]
  },
  {
   "cell_type": "markdown",
   "id": "8a0a6ab8",
   "metadata": {},
   "source": [
    "6. Summarize the Cleaned Dataset"
   ]
  },
  {
   "cell_type": "code",
   "execution_count": 27,
   "id": "c3e54638",
   "metadata": {},
   "outputs": [
    {
     "name": "stdout",
     "output_type": "stream",
     "text": [
      "        Quantity       Price\n",
      "mean         3.1  246.666667\n",
      "median       3.0  150.000000\n",
      "min          1.0   20.000000\n",
      "max          5.0  900.000000\n"
     ]
    }
   ],
   "source": [
    "# Display summary statistics (mean, median, min, max) for numerical columns like quantity and price.\n",
    "print(df[['Quantity', 'Price']].agg(['mean', 'median', 'min', 'max']))\n"
   ]
  },
  {
   "cell_type": "code",
   "execution_count": 29,
   "id": "cc4edbae",
   "metadata": {},
   "outputs": [
    {
     "name": "stdout",
     "output_type": "stream",
     "text": [
      "    Region  Total Quantity  Average Price\n",
      "0     East             4.0     150.000000\n",
      "1    North            19.0      25.000000\n",
      "2    South             6.0     246.666667\n",
      "3  Unknown             1.0      20.000000\n",
      "4     West             4.1     900.000000\n"
     ]
    }
   ],
   "source": [
    "#Group data by region and show total sales quantity and average price per region.\n",
    "grouped = df.groupby('Region').agg({\n",
    "    'Quantity': 'sum',        # Total quantity\n",
    "    'Price': 'mean'           # Average price\n",
    "}).reset_index()\n",
    "\n",
    "grouped.rename(columns={'Quantity': 'Total Quantity', 'Price': 'Average Price'}, inplace=True)\n",
    "print(grouped)"
   ]
  },
  {
   "cell_type": "code",
   "execution_count": 31,
   "id": "5a40df54",
   "metadata": {},
   "outputs": [
    {
     "name": "stdout",
     "output_type": "stream",
     "text": [
      "   customer_name   Product  Quantity       Price   Sale Date   Region\n",
      "0          Alice  Keyboard       5.0   25.000000  2023-05-01    North\n",
      "1            Bob     Mouse       3.0  246.666667  2023-05-03    South\n",
      "2        Unknown   Monitor       2.0  150.000000  2023-05-01     East\n",
      "3          David  Keyboard       5.0   25.000000  2023-05-01    North\n",
      "4          Alice  Keyboard       5.0   25.000000  2023-05-01    North\n",
      "5            Eve    Laptop       3.1  900.000000  2023-05-01     West\n",
      "6          Frank     Mouse       1.0   20.000000  2023-05-04  Unknown\n",
      "7          Grace   Monitor       2.0  150.000000  2023-05-02     East\n",
      "8            Bob     Mouse       3.0  246.666667  2023-05-03    South\n",
      "9          Henry    Laptop       1.0  900.000000  2023-05-05     West\n",
      "10           Ivy  Keyboard       4.0   25.000000  2023-05-01    North\n"
     ]
    }
   ],
   "source": [
    "print(df)"
   ]
  },
  {
   "cell_type": "code",
   "execution_count": 30,
   "id": "73d0c462",
   "metadata": {},
   "outputs": [
    {
     "name": "stdout",
     "output_type": "stream",
     "text": [
      "Product\n",
      "Keyboard    19.0\n",
      "Mouse        7.0\n",
      "Laptop       4.1\n",
      "Name: Quantity, dtype: float64\n"
     ]
    }
   ],
   "source": [
    "# Find the top 3 products by total quantity sold.\n",
    "top_products = df.groupby('Product')['Quantity'].sum().sort_values(ascending=False).head(3)\n",
    "print(top_products)\n"
   ]
  },
  {
   "cell_type": "markdown",
   "id": "8e615250",
   "metadata": {},
   "source": [
    "7. Save the Cleaned Data"
   ]
  },
  {
   "cell_type": "code",
   "execution_count": 32,
   "id": "d17ed53b",
   "metadata": {},
   "outputs": [],
   "source": [
    "# Save the cleaned and processed dataset into a new CSV file named sales_data_cleaned.csv.\n",
    "\n",
    "df.to_csv('sales_data_cleaned.csv', index=False)\n"
   ]
  },
  {
   "cell_type": "markdown",
   "id": "217da581",
   "metadata": {},
   "source": [
    "Optional"
   ]
  },
  {
   "cell_type": "code",
   "execution_count": 33,
   "id": "78a4db52",
   "metadata": {},
   "outputs": [
    {
     "name": "stdout",
     "output_type": "stream",
     "text": [
      "   customer_name   Product  Quantity       Price   Sale Date   Region  \\\n",
      "0          Alice  Keyboard       5.0   25.000000  2023-05-01    North   \n",
      "1            Bob     Mouse       3.0  246.666667  2023-05-03    South   \n",
      "2        Unknown   Monitor       2.0  150.000000  2023-05-01     East   \n",
      "3          David  Keyboard       5.0   25.000000  2023-05-01    North   \n",
      "4          Alice  Keyboard       5.0   25.000000  2023-05-01    North   \n",
      "5            Eve    Laptop       3.1  900.000000  2023-05-01     West   \n",
      "6          Frank     Mouse       1.0   20.000000  2023-05-04  Unknown   \n",
      "7          Grace   Monitor       2.0  150.000000  2023-05-02     East   \n",
      "8            Bob     Mouse       3.0  246.666667  2023-05-03    South   \n",
      "9          Henry    Laptop       1.0  900.000000  2023-05-05     West   \n",
      "10           Ivy  Keyboard       4.0   25.000000  2023-05-01    North   \n",
      "\n",
      "    total_sale  \n",
      "0        125.0  \n",
      "1        740.0  \n",
      "2        300.0  \n",
      "3        125.0  \n",
      "4        125.0  \n",
      "5       2790.0  \n",
      "6         20.0  \n",
      "7        300.0  \n",
      "8        740.0  \n",
      "9        900.0  \n",
      "10       100.0  \n"
     ]
    }
   ],
   "source": [
    "# Create a new column called total_sale by multiplying quantity and price.\n",
    "df['total_sale']=df['Quantity']*df['Price']\n",
    "print(df)"
   ]
  },
  {
   "cell_type": "code",
   "execution_count": 36,
   "id": "7686a06d",
   "metadata": {},
   "outputs": [
    {
     "name": "stdout",
     "output_type": "stream",
     "text": [
      "2023-05-01\n",
      "2790.0\n"
     ]
    }
   ],
   "source": [
    "# Find the date with the highest total sales.\n",
    "s= df.groupby('Sale Date')['total_sale'].sum()\n",
    "print(s.idxmax())\n",
    "print(df.total_sale.max())     # sort_values(ascending=False).head(1))"
   ]
  },
  {
   "cell_type": "code",
   "execution_count": 37,
   "id": "341a7ea9",
   "metadata": {},
   "outputs": [
    {
     "name": "stderr",
     "output_type": "stream",
     "text": [
      "C:\\Users\\USER\\AppData\\Local\\Temp\\ipykernel_17240\\1675092938.py:15: FutureWarning: \n",
      "\n",
      "Passing `palette` without assigning `hue` is deprecated and will be removed in v0.14.0. Assign the `x` variable to `hue` and set `legend=False` for the same effect.\n",
      "\n",
      "  sns.barplot(x='Region', y='Quantity', data=region_sales, palette='viridis')\n"
     ]
    },
    {
     "data": {
      "image/png": "[encoded data removed]",
      "text/plain": [
       "<Figure size 800x600 with 1 Axes>"
      ]
     },
     "metadata": {},
     "output_type": "display_data"
    }
   ],
   "source": [
    "#Visualize the sales quantity by region using a bar chart (you can use matplotlib or seaborn).\n",
    "import pandas as pd\n",
    "import seaborn as sns\n",
    "import matplotlib.pyplot as plt\n",
    "\n",
    "# Assuming your DataFrame is called df\n",
    "# Group by region and sum quantity\n",
    "region_sales = df.groupby('Region')['Quantity'].sum().reset_index()\n",
    "\n",
    "# Set plot style\n",
    "sns.set(style=\"whitegrid\")\n",
    "\n",
    "# Create barplot\n",
    "plt.figure(figsize=(8, 6))\n",
    "sns.barplot(x='Region', y='Quantity', data=region_sales, palette='viridis')\n",
    "\n",
    "# Title and labels\n",
    "plt.title('Sales Quantity by Region', fontsize=16)\n",
    "plt.xlabel('Region', fontsize=12)\n",
    "plt.ylabel('Total Quantity Sold', fontsize=12)\n",
    "plt.xticks(rotation=45)\n",
    "\n",
    "# Show the plot\n",
    "plt.tight_layout()\n",
    "plt.show()\n"
   ]
  }
 ],
 "metadata": {
  "kernelspec": {
   "display_name": "Python 3",
   "language": "python",
   "name": "python3"
  },
  "language_info": {
   "codemirror_mode": {
    "name": "ipython",
    "version": 3
   },
   "file_extension": ".py",
   "mimetype": "text/x-python",
   "name": "python",
   "nbconvert_exporter": "python",
   "pygments_lexer": "ipython3",
   "version": "3.11.7"
  }
 },
 "nbformat": 4,
 "nbformat_minor": 5
}
